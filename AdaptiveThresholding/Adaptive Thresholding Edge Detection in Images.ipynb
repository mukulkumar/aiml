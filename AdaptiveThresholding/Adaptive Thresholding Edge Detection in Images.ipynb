{
 "cells": [
  {
   "cell_type": "code",
   "execution_count": 1,
   "id": "499795d7",
   "metadata": {},
   "outputs": [],
   "source": [
    "import cv2 \n",
    "import numpy as np "
   ]
  },
  {
   "cell_type": "code",
   "execution_count": 2,
   "id": "79bec384",
   "metadata": {},
   "outputs": [],
   "source": [
    "image1 = cv2.imread('image.jpg') \n"
   ]
  },
  {
   "cell_type": "code",
   "execution_count": 3,
   "id": "d7e83e12",
   "metadata": {},
   "outputs": [],
   "source": [
    "img = cv2.cvtColor(image1, cv2.COLOR_BGR2GRAY) \n"
   ]
  },
  {
   "cell_type": "code",
   "execution_count": 4,
   "id": "7557864a",
   "metadata": {},
   "outputs": [],
   "source": [
    "thresh1 = cv2.adaptiveThreshold(img, 255, cv2.ADAPTIVE_THRESH_MEAN_C,\n",
    "                                cv2.THRESH_BINARY, 199, 5) \n",
    "\n",
    "thresh2 = cv2.adaptiveThreshold(img, 255, cv2.ADAPTIVE_THRESH_GAUSSIAN_C,\n",
    "                                cv2.THRESH_BINARY, 199, 5) \n"
   ]
  },
  {
   "cell_type": "code",
   "execution_count": 5,
   "id": "0109a6ab",
   "metadata": {},
   "outputs": [],
   "source": [
    "cv2.imshow('Adaptive Mean', thresh1) \n",
    "\n"
   ]
  },
  {
   "cell_type": "code",
   "execution_count": 6,
   "id": "4397c289",
   "metadata": {},
   "outputs": [],
   "source": [
    "cv2.imshow('Adaptive Gaussian', thresh2) "
   ]
  },
  {
   "cell_type": "code",
   "execution_count": 7,
   "id": "55513870",
   "metadata": {},
   "outputs": [],
   "source": [
    "if cv2.waitKey(0) & 0xff == 27:\n",
    "    cv2.destroyAllWindows() \n"
   ]
  },
  {
   "cell_type": "code",
   "execution_count": null,
   "id": "d70ff258",
   "metadata": {},
   "outputs": [],
   "source": []
  }
 ],
 "metadata": {
  "kernelspec": {
   "display_name": "Python 3",
   "language": "python",
   "name": "python3"
  },
  "language_info": {
   "codemirror_mode": {
    "name": "ipython",
    "version": 3
   },
   "file_extension": ".py",
   "mimetype": "text/x-python",
   "name": "python",
   "nbconvert_exporter": "python",
   "pygments_lexer": "ipython3",
   "version": "3.9.4"
  }
 },
 "nbformat": 4,
 "nbformat_minor": 5
}
